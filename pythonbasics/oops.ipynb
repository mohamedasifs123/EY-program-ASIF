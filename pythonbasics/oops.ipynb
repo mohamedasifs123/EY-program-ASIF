{
 "cells": [
  {
   "cell_type": "markdown",
   "metadata": {},
   "source": []
  },
  {
   "cell_type": "code",
   "execution_count": 2,
   "metadata": {},
   "outputs": [],
   "source": [
    "studentnames  = []\n",
    "rollnos =[]\n",
    "branches =[]\n",
    "paidamount =[]\n"
   ]
  },
  {
   "cell_type": "code",
   "execution_count": 3,
   "metadata": {},
   "outputs": [],
   "source": [
    "def create(name,roll,branch,paid):\n",
    "    studentnames.append(name)\n",
    "    rollnos.append(roll)\n",
    "    branches.append(branch)\n",
    "    paidamount.append(paid)\n",
    "    "
   ]
  },
  {
   "cell_type": "code",
   "execution_count": 6,
   "metadata": {},
   "outputs": [],
   "source": [
    "create(\"asi\",999,\"cse\",100000)"
   ]
  },
  {
   "cell_type": "code",
   "execution_count": 7,
   "metadata": {},
   "outputs": [
    {
     "name": "stdout",
     "output_type": "stream",
     "text": [
      "['asif', 'asi'] \n",
      " [99, 999] \n",
      " ['cse', 'cse'] \n",
      " [100000, 100000]\n"
     ]
    }
   ],
   "source": [
    "print(studentnames,\"\\n\",rollnos,\"\\n\",branches,\"\\n\",paidamount)\n"
   ]
  },
  {
   "cell_type": "code",
   "execution_count": 9,
   "metadata": {},
   "outputs": [],
   "source": [
    "class student:\n",
    "    def __init__(self,name,roll,branch,amunt):\n",
    "        self.name = name\n",
    "        self.roll=roll\n",
    "        self.branch=branch\n",
    "        self.amunt=amunt"
   ]
  },
  {
   "cell_type": "code",
   "execution_count": null,
   "metadata": {},
   "outputs": [],
   "source": [
    "asif=student(\"asif\",99,\"cse\",100000)"
   ]
  },
  {
   "cell_type": "markdown",
   "metadata": {},
   "source": [
    "### var vs prop vs fun vs metds"
   ]
  },
  {
   "cell_type": "markdown",
   "metadata": {},
   "source": []
  },
  {
   "cell_type": "code",
   "execution_count": null,
   "metadata": {},
   "outputs": [],
   "source": [
    "name = \"asif\"\n",
    "roll = 13\n",
    "branch =\"cse\"\n",
    "amount = 13000\n",
    "\n",
    "def getNameRoll():\n",
    "    print(f\"the name of student is {name} and roll no is {roll}\")\n",
    "\n",
    "def getSummary():\n",
    "    print(f\"the student name is {name} an roll no is {roll} \\n he is from branch {branch} an his amount is {amount}\")\n",
    "    \n",
    "        \n"
   ]
  }
 ],
 "metadata": {
  "kernelspec": {
   "display_name": "Python 3",
   "language": "python",
   "name": "python3"
  },
  "language_info": {
   "codemirror_mode": {
    "name": "ipython",
    "version": 3
   },
   "file_extension": ".py",
   "mimetype": "text/x-python",
   "name": "python",
   "nbconvert_exporter": "python",
   "pygments_lexer": "ipython3",
   "version": "3.11.6"
  }
 },
 "nbformat": 4,
 "nbformat_minor": 2
}
